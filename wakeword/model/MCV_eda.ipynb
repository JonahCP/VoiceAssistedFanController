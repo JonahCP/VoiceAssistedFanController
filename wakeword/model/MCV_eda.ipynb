{
 "cells": [
  {
   "cell_type": "markdown",
   "metadata": {},
   "source": [
    "# Exploring format of Mozilla Common Voice (MCV)"
   ]
  },
  {
   "cell_type": "markdown",
   "metadata": {},
   "source": [
    "# Merging clips and validated tsv"
   ]
  },
  {
   "cell_type": "code",
   "execution_count": 1,
   "metadata": {},
   "outputs": [],
   "source": [
    "import pyaudio\n",
    "import wave\n",
    "import sys\n",
    "import os\n",
    "import random\n",
    "import librosa\n",
    "from IPython.display import Audio\n",
    "import pandas as pd\n",
    "import matplotlib.pyplot as plt\n",
    "import librosa.display\n",
    "import numpy as np\n",
    "\n",
    "MCV_dir = 'C:/Users/Jonah/Documents/Datasets/MCV/MCV_data/en'"
   ]
  },
  {
   "cell_type": "markdown",
   "metadata": {},
   "source": [
    "Only using the \"validated.tsv\" as I want to ensure all of my audio has been verified."
   ]
  },
  {
   "cell_type": "code",
   "execution_count": 2,
   "metadata": {},
   "outputs": [
    {
     "data": {
      "text/html": [
       "<div>\n",
       "<style scoped>\n",
       "    .dataframe tbody tr th:only-of-type {\n",
       "        vertical-align: middle;\n",
       "    }\n",
       "\n",
       "    .dataframe tbody tr th {\n",
       "        vertical-align: top;\n",
       "    }\n",
       "\n",
       "    .dataframe thead th {\n",
       "        text-align: right;\n",
       "    }\n",
       "</style>\n",
       "<table border=\"1\" class=\"dataframe\">\n",
       "  <thead>\n",
       "    <tr style=\"text-align: right;\">\n",
       "      <th></th>\n",
       "      <th>client_id</th>\n",
       "      <th>path</th>\n",
       "      <th>sentence_id</th>\n",
       "      <th>sentence</th>\n",
       "      <th>sentence_domain</th>\n",
       "      <th>up_votes</th>\n",
       "      <th>down_votes</th>\n",
       "      <th>age</th>\n",
       "      <th>gender</th>\n",
       "      <th>accents</th>\n",
       "      <th>variant</th>\n",
       "      <th>locale</th>\n",
       "      <th>segment</th>\n",
       "    </tr>\n",
       "  </thead>\n",
       "  <tbody>\n",
       "    <tr>\n",
       "      <th>0</th>\n",
       "      <td>000abb3006b78ea4c1144e55d9d158f05a9db011016051...</td>\n",
       "      <td>common_voice_en_27710027.mp3</td>\n",
       "      <td>b2cf0b3308b6e00b46f3e48fe59682452ae737a596aa29...</td>\n",
       "      <td>Joe Keaton disapproved of films, and Buster al...</td>\n",
       "      <td>NaN</td>\n",
       "      <td>3</td>\n",
       "      <td>1</td>\n",
       "      <td>NaN</td>\n",
       "      <td>NaN</td>\n",
       "      <td>NaN</td>\n",
       "      <td>NaN</td>\n",
       "      <td>en</td>\n",
       "      <td>NaN</td>\n",
       "    </tr>\n",
       "    <tr>\n",
       "      <th>1</th>\n",
       "      <td>0013037a1d45cc33460806cc3f8ecee9d536c45639ba4c...</td>\n",
       "      <td>common_voice_en_699711.mp3</td>\n",
       "      <td>de9d68400821d73ee6868687d0562c60282ee9446d1191...</td>\n",
       "      <td>She'll be all right.</td>\n",
       "      <td>NaN</td>\n",
       "      <td>2</td>\n",
       "      <td>1</td>\n",
       "      <td>NaN</td>\n",
       "      <td>NaN</td>\n",
       "      <td>NaN</td>\n",
       "      <td>NaN</td>\n",
       "      <td>en</td>\n",
       "      <td>NaN</td>\n",
       "    </tr>\n",
       "    <tr>\n",
       "      <th>2</th>\n",
       "      <td>0014c5a3e5715a54855257779b89c2bb498d470b225866...</td>\n",
       "      <td>common_voice_en_21953345.mp3</td>\n",
       "      <td>14c0567a0a6c4ea49f2a1b2ac73de940b8c07779c70bf0...</td>\n",
       "      <td>six</td>\n",
       "      <td>NaN</td>\n",
       "      <td>3</td>\n",
       "      <td>2</td>\n",
       "      <td>NaN</td>\n",
       "      <td>NaN</td>\n",
       "      <td>NaN</td>\n",
       "      <td>NaN</td>\n",
       "      <td>en</td>\n",
       "      <td>Benchmark</td>\n",
       "    </tr>\n",
       "    <tr>\n",
       "      <th>3</th>\n",
       "      <td>001509f4624a7dee75247f6a8b642c4a0d09f8be3eeea6...</td>\n",
       "      <td>common_voice_en_18132047.mp3</td>\n",
       "      <td>db626d9888c3fbc71f1be862592c7831f27f275e199510...</td>\n",
       "      <td>All's well that ends well.</td>\n",
       "      <td>NaN</td>\n",
       "      <td>2</td>\n",
       "      <td>0</td>\n",
       "      <td>NaN</td>\n",
       "      <td>NaN</td>\n",
       "      <td>NaN</td>\n",
       "      <td>NaN</td>\n",
       "      <td>en</td>\n",
       "      <td>NaN</td>\n",
       "    </tr>\n",
       "    <tr>\n",
       "      <th>4</th>\n",
       "      <td>001519f234e04528a2b36158c205dbe61c8da45ab0242f...</td>\n",
       "      <td>common_voice_en_27340672.mp3</td>\n",
       "      <td>a975540ad0c7ceaaec94cd17ae3b55e1eaf89a61d4a579...</td>\n",
       "      <td>It is a busy market town that serves a large s...</td>\n",
       "      <td>NaN</td>\n",
       "      <td>2</td>\n",
       "      <td>0</td>\n",
       "      <td>NaN</td>\n",
       "      <td>NaN</td>\n",
       "      <td>NaN</td>\n",
       "      <td>NaN</td>\n",
       "      <td>en</td>\n",
       "      <td>NaN</td>\n",
       "    </tr>\n",
       "  </tbody>\n",
       "</table>\n",
       "</div>"
      ],
      "text/plain": [
       "                                           client_id  \\\n",
       "0  000abb3006b78ea4c1144e55d9d158f05a9db011016051...   \n",
       "1  0013037a1d45cc33460806cc3f8ecee9d536c45639ba4c...   \n",
       "2  0014c5a3e5715a54855257779b89c2bb498d470b225866...   \n",
       "3  001509f4624a7dee75247f6a8b642c4a0d09f8be3eeea6...   \n",
       "4  001519f234e04528a2b36158c205dbe61c8da45ab0242f...   \n",
       "\n",
       "                           path  \\\n",
       "0  common_voice_en_27710027.mp3   \n",
       "1    common_voice_en_699711.mp3   \n",
       "2  common_voice_en_21953345.mp3   \n",
       "3  common_voice_en_18132047.mp3   \n",
       "4  common_voice_en_27340672.mp3   \n",
       "\n",
       "                                         sentence_id  \\\n",
       "0  b2cf0b3308b6e00b46f3e48fe59682452ae737a596aa29...   \n",
       "1  de9d68400821d73ee6868687d0562c60282ee9446d1191...   \n",
       "2  14c0567a0a6c4ea49f2a1b2ac73de940b8c07779c70bf0...   \n",
       "3  db626d9888c3fbc71f1be862592c7831f27f275e199510...   \n",
       "4  a975540ad0c7ceaaec94cd17ae3b55e1eaf89a61d4a579...   \n",
       "\n",
       "                                            sentence sentence_domain  \\\n",
       "0  Joe Keaton disapproved of films, and Buster al...             NaN   \n",
       "1                               She'll be all right.             NaN   \n",
       "2                                                six             NaN   \n",
       "3                         All's well that ends well.             NaN   \n",
       "4  It is a busy market town that serves a large s...             NaN   \n",
       "\n",
       "   up_votes  down_votes  age gender accents  variant locale    segment  \n",
       "0         3           1  NaN    NaN     NaN      NaN     en        NaN  \n",
       "1         2           1  NaN    NaN     NaN      NaN     en        NaN  \n",
       "2         3           2  NaN    NaN     NaN      NaN     en  Benchmark  \n",
       "3         2           0  NaN    NaN     NaN      NaN     en        NaN  \n",
       "4         2           0  NaN    NaN     NaN      NaN     en        NaN  "
      ]
     },
     "execution_count": 2,
     "metadata": {},
     "output_type": "execute_result"
    }
   ],
   "source": [
    "val_df = pd.read_csv(MCV_dir + '/validated.tsv', sep='\\t', low_memory=False)\n",
    "\n",
    "val_df.head()"
   ]
  },
  {
   "cell_type": "code",
   "execution_count": 3,
   "metadata": {},
   "outputs": [
    {
     "data": {
      "text/html": [
       "<div>\n",
       "<style scoped>\n",
       "    .dataframe tbody tr th:only-of-type {\n",
       "        vertical-align: middle;\n",
       "    }\n",
       "\n",
       "    .dataframe tbody tr th {\n",
       "        vertical-align: top;\n",
       "    }\n",
       "\n",
       "    .dataframe thead th {\n",
       "        text-align: right;\n",
       "    }\n",
       "</style>\n",
       "<table border=\"1\" class=\"dataframe\">\n",
       "  <thead>\n",
       "    <tr style=\"text-align: right;\">\n",
       "      <th></th>\n",
       "      <th>clip</th>\n",
       "      <th>duration[ms]</th>\n",
       "    </tr>\n",
       "  </thead>\n",
       "  <tbody>\n",
       "    <tr>\n",
       "      <th>0</th>\n",
       "      <td>common_voice_en_542010.mp3</td>\n",
       "      <td>3024</td>\n",
       "    </tr>\n",
       "    <tr>\n",
       "      <th>1</th>\n",
       "      <td>common_voice_en_92137.mp3</td>\n",
       "      <td>3384</td>\n",
       "    </tr>\n",
       "    <tr>\n",
       "      <th>2</th>\n",
       "      <td>common_voice_en_18675557.mp3</td>\n",
       "      <td>6696</td>\n",
       "    </tr>\n",
       "    <tr>\n",
       "      <th>3</th>\n",
       "      <td>common_voice_en_19798775.mp3</td>\n",
       "      <td>6744</td>\n",
       "    </tr>\n",
       "    <tr>\n",
       "      <th>4</th>\n",
       "      <td>common_voice_en_17533881.mp3</td>\n",
       "      <td>7416</td>\n",
       "    </tr>\n",
       "  </tbody>\n",
       "</table>\n",
       "</div>"
      ],
      "text/plain": [
       "                           clip  duration[ms]\n",
       "0    common_voice_en_542010.mp3          3024\n",
       "1     common_voice_en_92137.mp3          3384\n",
       "2  common_voice_en_18675557.mp3          6696\n",
       "3  common_voice_en_19798775.mp3          6744\n",
       "4  common_voice_en_17533881.mp3          7416"
      ]
     },
     "execution_count": 3,
     "metadata": {},
     "output_type": "execute_result"
    }
   ],
   "source": [
    "duration_df = pd.read_csv(MCV_dir + '/clip_durations.tsv', sep='\\t', low_memory=False)\n",
    "\n",
    "duration_df.head()"
   ]
  },
  {
   "cell_type": "code",
   "execution_count": 4,
   "metadata": {},
   "outputs": [
    {
     "name": "stdout",
     "output_type": "stream",
     "text": [
      "Shape of validated.tsv: (1812347, 13)\n",
      "Shape of clip_durations.tsv: (2440596, 2)\n"
     ]
    }
   ],
   "source": [
    "print('Shape of validated.tsv:', val_df.shape)\n",
    "print('Shape of clip_durations.tsv:', duration_df.shape)"
   ]
  },
  {
   "cell_type": "markdown",
   "metadata": {},
   "source": [
    "Merging dataframes so that I can know the durations of the validated clips."
   ]
  },
  {
   "cell_type": "code",
   "execution_count": 5,
   "metadata": {},
   "outputs": [
    {
     "name": "stdout",
     "output_type": "stream",
     "text": [
      "Shape of merged dataframe: (1812347, 15)\n"
     ]
    }
   ],
   "source": [
    "merged_df = pd.merge(val_df, duration_df, left_on='path', right_on='clip')\n",
    "\n",
    "print('Shape of merged dataframe:', merged_df.shape)"
   ]
  },
  {
   "cell_type": "markdown",
   "metadata": {},
   "source": [
    "My wakeword is \"Hey Jarvis\" so I'm removing all instances of \"Hey\" in the dataframe."
   ]
  },
  {
   "cell_type": "code",
   "execution_count": 6,
   "metadata": {},
   "outputs": [
    {
     "name": "stdout",
     "output_type": "stream",
     "text": [
      "Shape of filtered dataframe: (1809315, 15)\n"
     ]
    }
   ],
   "source": [
    "filtered_df = merged_df[~merged_df['sentence'].str.contains(r'\\bHey\\b', case=False, na=False)]\n",
    "\n",
    "print('Shape of filtered dataframe:', filtered_df.shape)"
   ]
  },
  {
   "cell_type": "markdown",
   "metadata": {},
   "source": [
    "# Determine shapes of audio files"
   ]
  },
  {
   "cell_type": "markdown",
   "metadata": {},
   "source": [
    "## Shape of my wakeup recordings"
   ]
  },
  {
   "cell_type": "code",
   "execution_count": 7,
   "metadata": {},
   "outputs": [],
   "source": [
    "wakeup_dir = 'C:/Users/Jonah/Documents/Code/pyprogs/VoiceAssistedFanController/my_data/wakeup_recordings'\n",
    "\n",
    "wakeup_files = os.listdir(wakeup_dir)\n",
    "\n",
    "# Add wakeup_dir to path of each file\n",
    "for i in range(len(wakeup_files)):\n",
    "    wakeup_files[i] = wakeup_dir + '/' + wakeup_files[i]"
   ]
  },
  {
   "cell_type": "code",
   "execution_count": 8,
   "metadata": {},
   "outputs": [
    {
     "name": "stdout",
     "output_type": "stream",
     "text": [
      "Number of samples in C:/Users/Jonah/Documents/Code/pyprogs/VoiceAssistedFanController/my_data/wakeup_recordings/wakeup_word_0.wav : 9846\n"
     ]
    }
   ],
   "source": [
    "# Determine number of samples in each wakeword audio file\n",
    "y, sr = librosa.load(wakeup_files[0], sr=8000)\n",
    "print('Number of samples in', wakeup_files[0], ':', len(y))"
   ]
  },
  {
   "cell_type": "code",
   "execution_count": 10,
   "metadata": {},
   "outputs": [
    {
     "data": {
      "text/html": [
       "\n",
       "                <audio  controls=\"controls\" >\n",
       "                    <source src=\"data:audio/wav;base64,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\" type=\"audio/wav\" />\n",
       "                    Your browser does not support the audio element.\n",
       "                </audio>\n",
       "              "
      ],
      "text/plain": [
       "<IPython.lib.display.Audio object>"
      ]
     },
     "execution_count": 10,
     "metadata": {},
     "output_type": "execute_result"
    }
   ],
   "source": [
    "y, sr = librosa.load(wakeup_files[0], sr=8000)\n",
    "\n",
    "# Pad to 10000 samples\n",
    "y = np.pad(y, (0, 10000 - len(y)), 'constant')\n",
    "\n",
    "Audio(data=y, rate=sr)"
   ]
  },
  {
   "cell_type": "code",
   "execution_count": 11,
   "metadata": {},
   "outputs": [
    {
     "name": "stdout",
     "output_type": "stream",
     "text": [
      "Shape of mel spectrogram: (13, 40)\n"
     ]
    },
    {
     "data": {
      "text/plain": [
       "<matplotlib.colorbar.Colorbar at 0x1a809bcbe60>"
      ]
     },
     "execution_count": 11,
     "metadata": {},
     "output_type": "execute_result"
    },
    {
     "data": {
      "image/png": "[encoded data removed]",
      "text/plain": [
       "<Figure size 640x480 with 2 Axes>"
      ]
     },
     "metadata": {},
     "output_type": "display_data"
    }
   ],
   "source": [
    "# Show mel spectrogram of the audio using librosa\n",
    "melspec = librosa.feature.melspectrogram(y=y, sr=8000, n_mels=13, n_fft=512, hop_length=256)\n",
    "logmelspec = librosa.power_to_db(melspec)\n",
    "print('Shape of mel spectrogram:', logmelspec.shape)\n",
    "plt.figure()\n",
    "librosa.display.specshow(logmelspec, sr=8000, x_axis='time', y_axis='mel')\n",
    "plt.colorbar(format='%+2.0f dB')"
   ]
  },
  {
   "cell_type": "markdown",
   "metadata": {},
   "source": [
    "## Shape of MCV recordings "
   ]
  },
  {
   "cell_type": "code",
   "execution_count": 12,
   "metadata": {},
   "outputs": [
    {
     "name": "stdout",
     "output_type": "stream",
     "text": [
      "Shape of filtered dataframe: (1046931, 16)\n",
      "Shape of filtered dataframe: (2000, 16)\n"
     ]
    },
    {
     "name": "stderr",
     "output_type": "stream",
     "text": [
      "C:\\Users\\Jonah\\AppData\\Local\\Temp\\ipykernel_1828\\1316946750.py:4: SettingWithCopyWarning: \n",
      "A value is trying to be set on a copy of a slice from a DataFrame.\n",
      "Try using .loc[row_indexer,col_indexer] = value instead\n",
      "\n",
      "See the caveats in the documentation: https://pandas.pydata.org/pandas-docs/stable/user_guide/indexing.html#returning-a-view-versus-a-copy\n",
      "  filtered_df.loc[:, 'file_number'] = filtered_df['path'].str.split('_').str[3].str.split('.').str[0].str[0:3].astype(int)\n"
     ]
    }
   ],
   "source": [
    "# I only have audio files under 25382872 in the path column\n",
    "\n",
    "# Grabbing first 3 numbers in the file number\n",
    "filtered_df.loc[:, 'file_number'] = filtered_df['path'].str.split('_').str[3].str.split('.').str[0].str[0:3].astype(int)\n",
    "\n",
    "filtered_df_sampled = filtered_df[filtered_df['file_number'] < 252]\n",
    "\n",
    "print('Shape of filtered dataframe:', filtered_df_sampled.shape)\n",
    "\n",
    "# Randomly select 2000 audio files\n",
    "filtered_df_sampled = filtered_df_sampled.sample(n=2000, random_state=42)\n",
    "\n",
    "# Figure out the shape of the audio files\n",
    "print('Shape of filtered dataframe:', filtered_df_sampled.shape)"
   ]
  },
  {
   "cell_type": "code",
   "execution_count": 72,
   "metadata": {},
   "outputs": [
    {
     "name": "stdout",
     "output_type": "stream",
     "text": [
      "C:/Users/Jonah/Documents/Datasets/MCV/MCV_data/en\n"
     ]
    }
   ],
   "source": [
    "print(MCV_dir)"
   ]
  },
  {
   "cell_type": "code",
   "execution_count": 73,
   "metadata": {},
   "outputs": [
    {
     "name": "stdout",
     "output_type": "stream",
     "text": [
      "Minimum number of samples: 10752\n"
     ]
    }
   ],
   "source": [
    "min_samples = 1000000\n",
    "\n",
    "# Find the minimum number of samples in the audio files\n",
    "for i in range(filtered_df_sampled.shape[0]):\n",
    "    y, sr = librosa.load(MCV_dir + '/clips/' + filtered_df_sampled.iloc[i]['path'], sr=8000)\n",
    "    if len(y) < min_samples:\n",
    "        min_samples = len(y)\n",
    "\n",
    "print('Minimum number of samples:', min_samples)"
   ]
  },
  {
   "cell_type": "markdown",
   "metadata": {},
   "source": [
    "Since we know that each audio clip in the MCV is bigger than the audio clip of the wakeup word recordings, we don't have to do any sort of padding for the MCV clips."
   ]
  },
  {
   "cell_type": "code",
   "execution_count": 13,
   "metadata": {},
   "outputs": [
    {
     "name": "stdout",
     "output_type": "stream",
     "text": [
      "Shape of mel spectrogram: (13, 40)\n"
     ]
    },
    {
     "data": {
      "text/plain": [
       "<matplotlib.colorbar.Colorbar at 0x1a809b8c140>"
      ]
     },
     "execution_count": 13,
     "metadata": {},
     "output_type": "execute_result"
    },
    {
     "data": {
      "image/png": "[encoded data removed]",
      "text/plain": [
       "<Figure size 640x480 with 2 Axes>"
      ]
     },
     "metadata": {},
     "output_type": "display_data"
    }
   ],
   "source": [
    "y, sr = librosa.load(MCV_dir + '/clips/' + filtered_df_sampled.iloc[0]['path'], sr=8000)\n",
    "\n",
    "# Trim to 10000 samples\n",
    "y = y[0:10000]\n",
    "melspec = librosa.feature.melspectrogram(y=y, sr=8000, n_mels=13, n_fft=512, hop_length=256)\n",
    "logmelspec = librosa.power_to_db(melspec)\n",
    "print('Shape of mel spectrogram:', logmelspec.shape)\n",
    "plt.figure()\n",
    "librosa.display.specshow(logmelspec, sr=8000, x_axis='time', y_axis='mel')\n",
    "plt.colorbar(format='%+2.0f dB')"
   ]
  },
  {
   "cell_type": "code",
   "execution_count": 75,
   "metadata": {},
   "outputs": [],
   "source": [
    "# Only keep the columns we need\n",
    "filtered_df_sampled = filtered_df_sampled[['path', 'sentence', 'clip', 'file_number']]"
   ]
  },
  {
   "cell_type": "code",
   "execution_count": 76,
   "metadata": {},
   "outputs": [
    {
     "name": "stdout",
     "output_type": "stream",
     "text": [
      "c:\\Users\\Jonah\\Documents\\Code\\pyprogs\\VoiceAssistedFanController\\wakeword\\model\n"
     ]
    }
   ],
   "source": [
    "print(os.getcwd())"
   ]
  },
  {
   "cell_type": "code",
   "execution_count": 77,
   "metadata": {},
   "outputs": [],
   "source": [
    "filtered_df_sampled.to_csv('../../my_data/filtered_df_sampled.csv', index=False)"
   ]
  },
  {
   "cell_type": "markdown",
   "metadata": {},
   "source": [
    "# Create noise recordings for negative set\n",
    "\n",
    "Going to split up my ambient_noise.wav file into 9846 sample chunks to both use as negative samples and as added noise to both the negative and positive set."
   ]
  },
  {
   "cell_type": "code",
   "execution_count": 2,
   "metadata": {},
   "outputs": [
    {
     "name": "stdout",
     "output_type": "stream",
     "text": [
      "Number of samples in ambient noise file: 2396300\n"
     ]
    }
   ],
   "source": [
    "y, sr = librosa.load('../../my_data/ambient_noise.wav', sr=8000)\n",
    "\n",
    "print('Number of samples in ambient noise file:', len(y))"
   ]
  },
  {
   "cell_type": "code",
   "execution_count": 3,
   "metadata": {},
   "outputs": [],
   "source": [
    "import soundfile as sf\n",
    "\n",
    "# Generating 200 numbers between 0 and 2396300 - 10000 to get the start of the audio file\n",
    "random_starts = random.sample(range(0, 2396300 - 10000), 200)\n",
    "\n",
    "# Generate 200 audio files with 10000 samples each\n",
    "for i in range(200):\n",
    "    temp = y[random_starts[i]:random_starts[i] + 10000]\n",
    "    sf.write('../../my_data/noise_recordings/ambient_noise_' + str(i) + '.wav', temp, 8000)"
   ]
  },
  {
   "cell_type": "markdown",
   "metadata": {},
   "source": [
    "# Create Dataset CSV"
   ]
  },
  {
   "cell_type": "code",
   "execution_count": 102,
   "metadata": {},
   "outputs": [],
   "source": [
    "MCV_df = pd.read_csv('../../my_data/filtered_df_sampled.csv')\n",
    "wakeup_dir = 'C:/Users/Jonah/Documents/Code/pyprogs/VoiceAssistedFanController/my_data/wakeup_recordings'\n",
    "noise_dir = 'C:/Users/Jonah/Documents/Code/pyprogs/VoiceAssistedFanController/my_data/noise_recordings'"
   ]
  },
  {
   "cell_type": "code",
   "execution_count": 103,
   "metadata": {},
   "outputs": [
    {
     "data": {
      "text/html": [
       "<div>\n",
       "<style scoped>\n",
       "    .dataframe tbody tr th:only-of-type {\n",
       "        vertical-align: middle;\n",
       "    }\n",
       "\n",
       "    .dataframe tbody tr th {\n",
       "        vertical-align: top;\n",
       "    }\n",
       "\n",
       "    .dataframe thead th {\n",
       "        text-align: right;\n",
       "    }\n",
       "</style>\n",
       "<table border=\"1\" class=\"dataframe\">\n",
       "  <thead>\n",
       "    <tr style=\"text-align: right;\">\n",
       "      <th></th>\n",
       "      <th>path</th>\n",
       "      <th>sentence</th>\n",
       "      <th>clip</th>\n",
       "      <th>file_number</th>\n",
       "    </tr>\n",
       "  </thead>\n",
       "  <tbody>\n",
       "    <tr>\n",
       "      <th>0</th>\n",
       "      <td>common_voice_en_19743668.mp3</td>\n",
       "      <td>Each form elects two representatives to sit on...</td>\n",
       "      <td>common_voice_en_19743668.mp3</td>\n",
       "      <td>197</td>\n",
       "    </tr>\n",
       "    <tr>\n",
       "      <th>1</th>\n",
       "      <td>common_voice_en_20456047.mp3</td>\n",
       "      <td>Two palace aides were eventually convicted of ...</td>\n",
       "      <td>common_voice_en_20456047.mp3</td>\n",
       "      <td>204</td>\n",
       "    </tr>\n",
       "    <tr>\n",
       "      <th>2</th>\n",
       "      <td>common_voice_en_22911541.mp3</td>\n",
       "      <td>Merestead, Saint Mark's Cemetery, and the Unit...</td>\n",
       "      <td>common_voice_en_22911541.mp3</td>\n",
       "      <td>229</td>\n",
       "    </tr>\n",
       "    <tr>\n",
       "      <th>3</th>\n",
       "      <td>common_voice_en_1625181.mp3</td>\n",
       "      <td>What is it like?</td>\n",
       "      <td>common_voice_en_1625181.mp3</td>\n",
       "      <td>162</td>\n",
       "    </tr>\n",
       "    <tr>\n",
       "      <th>4</th>\n",
       "      <td>common_voice_en_20490986.mp3</td>\n",
       "      <td>These species are found in North America, with...</td>\n",
       "      <td>common_voice_en_20490986.mp3</td>\n",
       "      <td>204</td>\n",
       "    </tr>\n",
       "  </tbody>\n",
       "</table>\n",
       "</div>"
      ],
      "text/plain": [
       "                           path  \\\n",
       "0  common_voice_en_19743668.mp3   \n",
       "1  common_voice_en_20456047.mp3   \n",
       "2  common_voice_en_22911541.mp3   \n",
       "3   common_voice_en_1625181.mp3   \n",
       "4  common_voice_en_20490986.mp3   \n",
       "\n",
       "                                            sentence  \\\n",
       "0  Each form elects two representatives to sit on...   \n",
       "1  Two palace aides were eventually convicted of ...   \n",
       "2  Merestead, Saint Mark's Cemetery, and the Unit...   \n",
       "3                                   What is it like?   \n",
       "4  These species are found in North America, with...   \n",
       "\n",
       "                           clip  file_number  \n",
       "0  common_voice_en_19743668.mp3          197  \n",
       "1  common_voice_en_20456047.mp3          204  \n",
       "2  common_voice_en_22911541.mp3          229  \n",
       "3   common_voice_en_1625181.mp3          162  \n",
       "4  common_voice_en_20490986.mp3          204  "
      ]
     },
     "execution_count": 103,
     "metadata": {},
     "output_type": "execute_result"
    }
   ],
   "source": [
    "MCV_df.head()"
   ]
  },
  {
   "cell_type": "code",
   "execution_count": 104,
   "metadata": {},
   "outputs": [],
   "source": [
    "df = MCV_df[['path']]\n",
    "\n",
    "MCV_dir = 'C:/Users/Jonah/Documents/Datasets/MCV/MCV_data/en' + '/clips/'\n",
    "\n",
    "# Add MCV_dir to path of each file\n",
    "df.loc[:, 'path'] = MCV_dir + df['path']"
   ]
  },
  {
   "cell_type": "code",
   "execution_count": 105,
   "metadata": {},
   "outputs": [],
   "source": [
    "noise_files = os.listdir(noise_dir)\n",
    "\n",
    "for i in range(len(noise_files)):\n",
    "    noise_files[i] = noise_dir + '/' + noise_files[i]\n",
    "\n",
    "df_noise = pd.DataFrame(noise_files, columns=['path'])\n",
    "\n",
    "# Save the dataframe to a csv file\n",
    "df_noise.to_csv('../../my_data/noise.csv', index=False)\n",
    "df = pd.concat([df, df_noise], ignore_index=True)\n",
    "df['label'] = 0\n"
   ]
  },
  {
   "cell_type": "code",
   "execution_count": 107,
   "metadata": {},
   "outputs": [],
   "source": [
    "wakeup_files = os.listdir(wakeup_dir)\n",
    "\n",
    "for i in range(len(wakeup_files)):\n",
    "    wakeup_files[i] = wakeup_dir + '/' + wakeup_files[i]\n",
    "\n",
    "df_wakeup = pd.DataFrame(wakeup_files, columns=['path'])\n",
    "\n",
    "df_wakeup['label'] = 1\n",
    "\n",
    "# Duplicate the wakeup files 10 times\n",
    "df_wakeup = pd.concat([df_wakeup] * 10, ignore_index=True)\n",
    "\n",
    "df = pd.concat([df, df_wakeup], ignore_index=True)"
   ]
  },
  {
   "cell_type": "code",
   "execution_count": 108,
   "metadata": {},
   "outputs": [
    {
     "data": {
      "text/plain": [
       "(3200, 2)"
      ]
     },
     "execution_count": 108,
     "metadata": {},
     "output_type": "execute_result"
    }
   ],
   "source": [
    "df.shape"
   ]
  },
  {
   "cell_type": "code",
   "execution_count": 109,
   "metadata": {},
   "outputs": [],
   "source": [
    "# Save the dataframe to a csv file\n",
    "df.to_csv('../../my_data/df.csv', index=False)"
   ]
  }
 ],
 "metadata": {
  "kernelspec": {
   "display_name": ".venv",
   "language": "python",
   "name": "python3"
  },
  "language_info": {
   "codemirror_mode": {
    "name": "ipython",
    "version": 3
   },
   "file_extension": ".py",
   "mimetype": "text/x-python",
   "name": "python",
   "nbconvert_exporter": "python",
   "pygments_lexer": "ipython3",
   "version": "3.12.3"
  }
 },
 "nbformat": 4,
 "nbformat_minor": 2
}
